{
 "cells": [
  {
   "cell_type": "code",
   "execution_count": 2,
   "metadata": {
    "collapsed": false
   },
   "outputs": [],
   "source": [
    "import tensorflow as tf\n",
    "import time\n",
    "inputfile = \"../data/test/binarytxt/9_4.txt\"\n",
    "# 读取数据\n",
    "testDict = {}\n",
    "trainDict = {}\n",
    "i=9\n",
    "while i >=0 :\n",
    "    j=9\n",
    "    while j >= 0:\n",
    "        txtFile = '../data/binarytxt/'+str(i)+\"_\"+str(j)+\".txt\"\n",
    "        file = open(txtFile ,\"r+\")\n",
    "        trainStr = file.read()\n",
    "        trainDict[str(i)+\"_\"+str(j)] = trainStr\n",
    "        txtFile = \"../data/test/binarytxt/\"+str(i)+\"_\"+str(j)+\".txt\"\n",
    "        file = open(txtFile ,\"r+\")\n",
    "        testStr = file.read()\n",
    "        testDict[str(i)+\"_\"+str(j)] = testStr\n",
    "        j-=1\n",
    "    i-=1\n"
   ]
  },
  {
   "cell_type": "code",
   "execution_count": 3,
   "metadata": {
    "collapsed": false
   },
   "outputs": [
    {
     "name": "stdout",
     "output_type": "stream",
     "text": [
      "Tensor(\"Const:0\", shape=(1, 2), dtype=float32)\n"
     ]
    }
   ],
   "source": []
  },
  {
   "cell_type": "code",
   "execution_count": null,
   "metadata": {
    "collapsed": true
   },
   "outputs": [],
   "source": []
  }
 ],
 "metadata": {
  "kernelspec": {
   "display_name": "Python 2",
   "language": "python",
   "name": "python2"
  },
  "language_info": {
   "codemirror_mode": {
    "name": "ipython",
    "version": 2
   },
   "file_extension": ".py",
   "mimetype": "text/x-python",
   "name": "python",
   "nbconvert_exporter": "python",
   "pygments_lexer": "ipython2",
   "version": "2.7.13"
  }
 },
 "nbformat": 4,
 "nbformat_minor": 2
}
