{
 "cells": [
  {
   "cell_type": "markdown",
   "metadata": {
    "slideshow": {
     "slide_type": "slide"
    }
   },
   "source": [
    "## KNN 介绍\n",
    "\n",
    "### 算法介绍\n",
    "\n",
    "kNN算法的核心思想是如果一个样本在特征空间中的k个最相邻的样本中的大多数属于某一个类别，则该样本也属于这个类别，并具有这个类别上样本的特性。该方法在确定分类决策上只依据最邻近的一个或者几个样本的类别来决定待分样本所属的类别。 kNN方法在类别决策时，只与极少量的相邻样本有关。由于kNN方法主要靠周围有限的邻近的样本，而不是靠判别类域的方法来确定所属类别的，因此对于类域的交叉或重叠较多的待分样本集来说，kNN方法较其他方法更为适合。\n",
    "\n",
    "### 向量距离\n",
    "\n",
    "#### 向量的距离：\n",
    "\n",
    "两个向量之间的距离（此时向量作为n维向量坐标系中的点）计算，在数学上称为向量的距离（Distance），也称为样本之间的相似性度量（Similarity Measurement）。它反映为某类事物在距离上接近或远离的程度。直觉上，距离越近，越容易归为一类；距离越远就越不同。划分的依据，称为距离。\n",
    "\n",
    "#### 各种向量的距离和实际的含义\n",
    "\n",
    "1.欧式距离\n",
    "\n",
    "初中普及的两点之间的距离(勾股定理)的定义的扩展\n",
    "\n",
    "2.曼哈顿距离\n",
    "\n",
    "曼哈顿距离也称城市街区距离（City Block Distance）,也就是L1范数。\n",
    "二维平面两点A(x1,y1)和B(x2,y2)间的曼哈顿距离为：\n",
    "d=|x2-x1|+|y2-y1|\n",
    "\n",
    "3.切比雪夫距离\n",
    "\n",
    "国际象棋中，国王每走一步能够走到相邻的8个方格中的任意一个，那么国王从A(x1,y1)走到B(x2,y2)最少需要多少步？\n",
    "\n",
    "4.夹角余弦\n",
    "\n",
    "二维坐标系中的两条直线之间的夹角余弦值的扩展\n",
    "\n",
    "5.汉明距离\n",
    "\n",
    "两个字符串s1和s2之间的汉明距离 定义为将其中一个变为另外一个所需要的最小替换次数。\n",
    "\n",
    "6.杰卡德相似系数\n",
    "\n",
    "两个集合A和B的交集元素在A、B的并集中所占的比率，称为两个集合的杰卡德相似系数。\n"
   ]
  },
  {
   "cell_type": "markdown",
   "metadata": {},
   "source": [
    "### K 值的确定\n",
    "\n",
    "1. 经验确定\n",
    "2. 交叉验证，取在测试集上取不同的k值\n",
    "\n"
   ]
  },
  {
   "cell_type": "markdown",
   "metadata": {
    "slideshow": {
     "slide_type": "slide"
    }
   },
   "source": [
    "##  数据准备\n",
    "\n",
    "#### 1.数据集生成\n",
    "\n",
    "php 生成了随机扭转和偏移的 0-9 数字，各20张，40*60像素 ，取一半作为训练数据集，一半作为测试数据集，格式如下：\n",
    "\n",
    "<img src=\"../data/1_0.png\" style=\"display:inline\"><img src=\"../data/2_3.png\" style=\"display:inline\">\n",
    "<img src=\"../data/9_3.png\" style=\"display:inline\"><img src=\"../data/8_3.png\" style=\"display:inline\">\n",
    "\n",
    "#### 2. 二值化，向量化\n",
    "\n",
    "将图片中的像素点分为两类（本例中比较简单，无需技巧，一般的处理技巧是：），然后转成二进制一维向量(2400长度)，如下"
   ]
  },
  {
   "cell_type": "code",
   "execution_count": 1,
   "metadata": {
    "collapsed": false,
    "slideshow": {
     "slide_type": "slide"
    }
   },
   "outputs": [
    {
     "name": "stdout",
     "output_type": "stream",
     "text": [
      "示例图片\n"
     ]
    },
    {
     "data": {
      "image/png": "[encoded data removed]",
      "text/plain": [
       "<matplotlib.figure.Figure at 0x7fec5bb491d0>"
      ]
     },
     "metadata": {},
     "output_type": "display_data"
    },
    {
     "name": "stdout",
     "output_type": "stream",
     "text": [
      "000000000000000000000000000000000000000\n",
      "000000000000000000000000000000000000000\n",
      "000000000000000000000000000000000000000\n",
      "000000000000000000000000000000000000000\n",
      "000000000000000000000000000000000000000\n",
      "000000000000000000000000000000000000000\n",
      "000000000000000000000000000000000000000\n",
      "000000000000000000000000000000000000000\n",
      "000000000000000000000000000000000000000\n",
      "000000000000000000000000000000000000000\n",
      "000000000000000000111111111000000000000\n",
      "000000000000000011111111111111000000000\n",
      "000000000000000111111111111111110000000\n",
      "000000000000001111111111111111111000000\n",
      "000000000000011111111111111111111100000\n",
      "000000000000111111111000001111111110000\n",
      "000000000000111111100000000011111111000\n",
      "000000000000111111000000000001111111000\n",
      "000000000000111111000000000000111111000\n",
      "000000000000111111000000000000111111100\n",
      "000000000000111111000000000000011111100\n",
      "000000000000111111000000000000111111100\n",
      "000000000000111111000000000000111111000\n",
      "000000000000011111100000000000111111000\n",
      "000000000000011111110000000001111111000\n",
      "000000000000001111111000000011111110000\n",
      "000000000000000111111111111111111110000\n",
      "000000000000001111111111111111111100000\n",
      "000000000000111111111111111111110000000\n",
      "000000000011111111111111111111000000000\n",
      "000000000111111111111111111111100000000\n",
      "000000000111111110000000111111110000000\n",
      "000000001111111000000000001111111000000\n",
      "000000001111111000000000000111111000000\n",
      "000000001111110000000000000111111100000\n",
      "000000011111110000000000000011111100000\n",
      "000000011111100000000000000011111100000\n",
      "000000011111100000000000000011111100000\n",
      "000000011111100000000000000011111100000\n",
      "000000011111100000000000000011111100000\n",
      "000000011111110000000000000011111100000\n",
      "000000001111110000000000000111111100000\n",
      "000000001111111000000000001111111000000\n",
      "000000001111111100000000011111111000000\n",
      "000000000111111111100000111111111000000\n",
      "000000000011111111111111111111110000000\n",
      "000000000001111111111111111111100000000\n",
      "000000000000011111111111111111000000000\n",
      "000000000000000111111111111110000000000\n",
      "000000000000000000111111110000000000000\n",
      "000000000000000000000000000000000000000\n",
      "000000000000000000000000000000000000000\n",
      "000000000000000000000000000000000000000\n",
      "000000000000000000000000000000000000000\n",
      "000000000000000000000000000000000000000\n",
      "000000000000000000000000000000000000000\n",
      "000000000000000000000000000000000000000\n",
      "000000000000000000000000000000000000000\n",
      "000000000000000000000000000000000000000\n",
      "000000000000000000000000000000000000000\n"
     ]
    }
   ],
   "source": [
    "from PIL import Image\n",
    "import numpy as np\n",
    "import matplotlib.pyplot as plt\n",
    "def showPic( filename ):\n",
    "    img=np.array(Image.open(filename))\n",
    "    plt.imshow(img)\n",
    "    plt.axis('on')\n",
    "    plt.show()\n",
    "def getPngStr(filename):\n",
    "    image = Image.open(filename)\n",
    "    r, g, b = image.split()\n",
    "    r_arr = np.array(r).reshape(2400)\n",
    "    ##print r_arr.size\n",
    "    retStr=\"\"\n",
    "    for row in r_arr:\n",
    "        if row < 255 :\n",
    "            retStr+=\"1\"\n",
    "        else :\n",
    "            retStr+=\"0\"\n",
    "    return retStr\n",
    "\n",
    "demo=\"../data/8_2.png\"\n",
    "print \"示例图片\"\n",
    "showPic(demo)\n",
    "demoStr = getPngStr(demo)\n",
    "i = 0\n",
    "while i < 60 :\n",
    "    #print i\n",
    "    print demoStr[i*40:(i+1)*40 - 1]\n",
    "    i+=1\n"
   ]
  },
  {
   "cell_type": "markdown",
   "metadata": {
    "collapsed": true,
    "slideshow": {
     "slide_type": "slide"
    }
   },
   "source": [
    "### 交叉验证\n",
    "\n",
    "交叉验证的目的是，通过测试 测试集 在训练集上的效果来确定 K 的值和选取的距离函数\n",
    "\n",
    "### KNN python 实现\n",
    "\n",
    "1. 给定 K 值\n",
    "2. 分别计算 输入向量 到 100 个测试向量的值，按照距离，从小到大排序\n",
    "3. 取前 K 个值，出现最多的值就是预测的数字\n",
    "\n",
    "\n"
   ]
  },
  {
   "cell_type": "code",
   "execution_count": 2,
   "metadata": {
    "collapsed": false,
    "slideshow": {
     "slide_type": "slide"
    }
   },
   "outputs": [],
   "source": [
    "# 定义一些工具函数\n",
    "# 主要是各种距离的实现，下面会用到\n",
    "\n",
    "import scipy.spatial.distance as dist #导入Scipy距离公式\n",
    "\n",
    "# str to np_array\n",
    "def strToNPArr(str1 , str2) :\n",
    "    return np.array([int(i) for i in list(str1)]) , np.array([int(i) for i in list(str2)])\n",
    "\n",
    "# str to array\n",
    "def strToArr(str1 , str2) :\n",
    "    return [int(i) for i in list(str1)] , [int(i) for i in list(str2)]\n",
    "\n",
    "# 欧式距离\n",
    "def calEuclideanDistance(strVec1,strVec2) :\n",
    "    vec1 , vec2 = strToNPArr(strVec1 , strVec2)\n",
    "    dist = np.linalg.norm(vec1 - vec2)\n",
    "    return dist  \n",
    "\n",
    "# 曼哈顿距离\n",
    "def calMhdDistance(strVec1 , strVec2):\n",
    "    vec1 , vec2 = strToNPArr(strVec1 , strVec2)\n",
    "    return np.sum(np.abs(vec1 - vec2))\n",
    "\n",
    "# 切比雪夫距离\n",
    "def calChebyshewDictance(strVec1 , strVec2) :\n",
    "    vec1 , vec2 = strToNPArr(strVec1 , strVec2)\n",
    "    return np.abs(vec1 - vec2).max()\n",
    "\n",
    "# 余弦相似度\n",
    "def calConsinDistance(strVec1 , strVec2) :\n",
    "    vec1 , vec2 = strToNPArr(strVec1 , strVec2)\n",
    "    return np.dot(vec1,vec2)/(np.linalg.norm(vec1)*np.linalg.norm(vec2))\n",
    "\n",
    "# 汉明距离\n",
    "def calHammingDistance(strVec1 , strVec2) :\n",
    "    vec1 , vec2 = strToNPArr(strVec1 , strVec2)\n",
    "    r = (1 << np.arange(8))[:,None]\n",
    "    return np.count_nonzero( (vec1 & r) != (vec2 & r) )\n",
    "\n",
    "\n",
    "# 杰卡德距离\n",
    "def calJaccardDistance(strVec1 , strVec2) :\n",
    "    vec1 , vec2 = strToNPArr(strVec1 , strVec2)\n",
    "    matV = np.mat([vec1 , vec2])\n",
    "    return dist.pdist(matV  , \"jaccard\")\n",
    "\n",
    "\n"
   ]
  },
  {
   "cell_type": "markdown",
   "metadata": {
    "slideshow": {
     "slide_type": "slide"
    }
   },
   "source": [
    "K 值的确定主要通过交叉验证来确定\n",
    "这里分别使用 100 个测试集来在不同的距离函数上确定合适的 K 值\n",
    "经验上，通常k小于数据集的平方根。"
   ]
  },
  {
   "cell_type": "code",
   "execution_count": 3,
   "metadata": {
    "collapsed": false,
    "slideshow": {
     "slide_type": "slide"
    }
   },
   "outputs": [],
   "source": [
    "import time\n",
    "inputfile = \"../data/test/binarytxt/9_4.txt\"\n",
    "# 读取数据\n",
    "testDict = {}\n",
    "trainDict = {}\n",
    "i=9\n",
    "while i >=0 :\n",
    "    j=9\n",
    "    while j >= 0:\n",
    "        txtFile = '../data/binarytxt/'+str(i)+\"_\"+str(j)+\".txt\"\n",
    "        file = open(txtFile ,\"r+\")\n",
    "        trainStr = file.read()\n",
    "        trainDict[str(i)+\"_\"+str(j)] = trainStr\n",
    "        txtFile = \"../data/test/binarytxt/\"+str(i)+\"_\"+str(j)+\".txt\"\n",
    "        file = open(txtFile ,\"r+\")\n",
    "        testStr = file.read()\n",
    "        testDict[str(i)+\"_\"+str(j)] = testStr\n",
    "        j-=1\n",
    "    i-=1\n",
    "\n",
    "    \n",
    "def getPredictNumWithEuclidean(prStr , trainDict , k) :\n",
    "    retDict = {}\n",
    "    dis = {}\n",
    "    for trainK in trainDict :\n",
    "        trainV = trainDict[trainK]\n",
    "        dis[trainK] = calEuclideanDistance(prStr , trainV)\n",
    "    dis = sorted(dis.iteritems(), key=lambda d:d[1], reverse = False)\n",
    "    dis = dis[0:k]\n",
    "    for disK in dis :\n",
    "        pk = disK[0].split(\"_\")[0]\n",
    "        if retDict.has_key(pk) :\n",
    "            retDict[pk] = retDict[pk] + 1\n",
    "        else :\n",
    "            retDict[pk] = 1\n",
    "    retDict = sorted(retDict.iteritems(), key=lambda d:d[1], reverse = True)\n",
    "    if len(retDict) > 0 :\n",
    "        return retDict[0][0]\n",
    "    else :\n",
    "        return False\n",
    "    \n",
    "    \n",
    "def getPredictNumWithMhd(prStr , trainDict , k) :\n",
    "    retDict = {}\n",
    "    dis = {}\n",
    "    for trainK in trainDict :\n",
    "        trainV = trainDict[trainK]\n",
    "        dis[trainK] = calMhdDistance(prStr , trainV)\n",
    "    dis = sorted(dis.iteritems(), key=lambda d:d[1], reverse = False)\n",
    "    dis = dis[0:k]\n",
    "    for disK in dis :\n",
    "        pk = disK[0].split(\"_\")[0]\n",
    "        if retDict.has_key(pk) :\n",
    "            retDict[pk] = retDict[pk] + 1\n",
    "        else :\n",
    "            retDict[pk] = 1\n",
    "    retDict = sorted(retDict.iteritems(), key=lambda d:d[1], reverse = True)\n",
    "    if len(retDict) > 0 :\n",
    "        return retDict[0][0]\n",
    "    else :\n",
    "        return False\n",
    "    \n",
    "def getPredictNumWithConsin(prStr , trainDict , k) :\n",
    "    retDict = {}\n",
    "    dis = {}\n",
    "    for trainK in trainDict :\n",
    "        trainV = trainDict[trainK]\n",
    "        dis[trainK] = calConsinDistance(prStr , trainV)\n",
    "    dis = sorted(dis.iteritems(), key=lambda d:d[1], reverse = False)\n",
    "    dis = dis[0:k]\n",
    "    for disK in dis :\n",
    "        pk = disK[0].split(\"_\")[0]\n",
    "        if retDict.has_key(pk) :\n",
    "            retDict[pk] = retDict[pk] + 1\n",
    "        else :\n",
    "            retDict[pk] = 1\n",
    "    retDict = sorted(retDict.iteritems(), key=lambda d:d[1], reverse = True)\n",
    "    if len(retDict) > 0 :\n",
    "        return retDict[0][0]\n",
    "    else :\n",
    "        return False\n",
    "    \n",
    "    \n",
    "# 汉明距离\n",
    "def getPredictNumWithHamming(prStr , trainDict , k) :\n",
    "    retDict = {}\n",
    "    dis = {}\n",
    "    for trainK in trainDict :\n",
    "        trainV = trainDict[trainK]\n",
    "        dis[trainK] = calHammingDistance(prStr , trainV)\n",
    "    dis = sorted(dis.iteritems(), key=lambda d:d[1], reverse = False)\n",
    "    dis = dis[0:k]\n",
    "    for disK in dis :\n",
    "        pk = disK[0].split(\"_\")[0]\n",
    "        if retDict.has_key(pk) :\n",
    "            retDict[pk] = retDict[pk] + 1\n",
    "        else :\n",
    "            retDict[pk] = 1\n",
    "    retDict = sorted(retDict.iteritems(), key=lambda d:d[1], reverse = True)\n",
    "    if len(retDict) > 0 :\n",
    "        return retDict[0][0]\n",
    "    else :\n",
    "        return False\n",
    "\n",
    "def getPredictNumWithCheby(prStr , trainDict , k) :\n",
    "    retDict = {}\n",
    "    dis = {}\n",
    "    for trainK in trainDict :\n",
    "        trainV = trainDict[trainK]\n",
    "        dis[trainK] = calChebyshewDictance(prStr , trainV)\n",
    "    dis = sorted(dis.iteritems(), key=lambda d:d[1], reverse = False)\n",
    "    dis = dis[0:k]\n",
    "    for disK in dis :\n",
    "        pk = disK[0].split(\"_\")[0]\n",
    "        if retDict.has_key(pk) :\n",
    "            retDict[pk] = retDict[pk] + 1\n",
    "        else :\n",
    "            retDict[pk] = 1\n",
    "    retDict = sorted(retDict.iteritems(), key=lambda d:d[1], reverse = True)\n",
    "    if len(retDict) > 0 :\n",
    "        return retDict[0][0]\n",
    "    else :\n",
    "        return False\n",
    "    \n",
    "def getPredictNumWithJaccard(prStr , trainDict , k) :\n",
    "    retDict = {}\n",
    "    dis = {}\n",
    "    for trainK in trainDict :\n",
    "        trainV = trainDict[trainK]\n",
    "        dis[trainK] = calJaccardDistance(prStr , trainV)\n",
    "    dis = sorted(dis.iteritems(), key=lambda d:d[1], reverse = False)\n",
    "    dis = dis[0:k]\n",
    "    for disK in dis :\n",
    "        pk = disK[0].split(\"_\")[0]\n",
    "        if retDict.has_key(pk) :\n",
    "            retDict[pk] = retDict[pk] + 1\n",
    "        else :\n",
    "            retDict[pk] = 1\n",
    "    retDict = sorted(retDict.iteritems(), key=lambda d:d[1], reverse = True)\n",
    "    if len(retDict) > 0 :\n",
    "        return retDict[0][0]\n",
    "    else :\n",
    "        return False"
   ]
  },
  {
   "cell_type": "markdown",
   "metadata": {
    "collapsed": false,
    "slideshow": {
     "slide_type": "slide"
    }
   },
   "source": [
    "下面就是分别使用上面讲的几种距离计算方式分别在K 值是 1~20 这个区间的准确度，来得到一个对应距离准确率最好的 K 值"
   ]
  },
  {
   "cell_type": "code",
   "execution_count": 22,
   "metadata": {
    "collapsed": false,
    "slideshow": {
     "slide_type": "slide"
    }
   },
   "outputs": [
    {
     "name": "stdout",
     "output_type": "stream",
     "text": [
      "getPredictNumWithEuclidean\n",
      "505.27\n",
      "{1: 99, 2: 94, 3: 88, 4: 80, 5: 81, 6: 74, 7: 66, 8: 58, 9: 57, 10: 58, 11: 58, 12: 53, 13: 49, 14: 45, 15: 41, 16: 42, 17: 42, 18: 42, 19: 40, 20: 36}\n",
      "getPredictNumWithMhd\n",
      "504.57\n",
      "{1: 99, 2: 94, 3: 88, 4: 80, 5: 81, 6: 74, 7: 66, 8: 58, 9: 57, 10: 58, 11: 58, 12: 53, 13: 49, 14: 45, 15: 41, 16: 42, 17: 42, 18: 42, 19: 40, 20: 36}\n",
      "getPredictNumWithConsin\n",
      "506.84\n",
      "{1: 11, 2: 16, 3: 16, 4: 16, 5: 18, 6: 16, 7: 17, 8: 12, 9: 14, 10: 15, 11: 13, 12: 15, 13: 15, 14: 15, 15: 14, 16: 14, 17: 14, 18: 15, 19: 15, 20: 14}\n",
      "getPredictNumWithHamming\n",
      "519.62\n",
      "{1: 99, 2: 94, 3: 88, 4: 80, 5: 81, 6: 74, 7: 66, 8: 58, 9: 57, 10: 58, 11: 58, 12: 53, 13: 49, 14: 45, 15: 41, 16: 42, 17: 42, 18: 42, 19: 40, 20: 36}\n",
      "getPredictNumWithCheby\n",
      "504.95\n",
      "{1: 59, 2: 24, 3: 20, 4: 13, 5: 11, 6: 10, 7: 10, 8: 10, 9: 10, 10: 10, 11: 10, 12: 10, 13: 12, 14: 12, 15: 11, 16: 11, 17: 10, 18: 11, 19: 11, 20: 11}\n",
      "getPredictNumWithJaccard\n",
      "511.1\n",
      "{1: 97, 2: 95, 3: 83, 4: 79, 5: 76, 6: 77, 7: 70, 8: 70, 9: 64, 10: 54, 11: 58, 12: 60, 13: 50, 14: 44, 15: 42, 16: 43, 17: 42, 18: 38, 19: 35, 20: 37}\n"
     ]
    }
   ],
   "source": [
    "funcList = [\"Euclidean\",\"Mhd\",\"Consin\",\"Hamming\",\"Cheby\",\"Jaccard\"]\n",
    "for line in funcList :\n",
    "    fun = \"getPredictNumWith\"+line\n",
    "    print fun\n",
    "    kStart = 1\n",
    "    kMax  = 20\n",
    "    start = time.clock()\n",
    "    kToRateDict = {}\n",
    "    while kStart <= kMax :\n",
    "        rightRate = 0\n",
    "        for testK in testDict :\n",
    "            testV = testDict[testK]\n",
    "            tpk   = testK[0].split(\"_\")[0]\n",
    "            pRet  = eval(fun)(testV , trainDict , kStart)\n",
    "            if pRet == tpk :\n",
    "                rightRate = rightRate + 1\n",
    "        kToRateDict[kStart] = rightRate\n",
    "        kStart = kStart + 1\n",
    "    end = time.clock()\n",
    "    print end - start\n",
    "    print kToRateDict"
   ]
  },
  {
   "cell_type": "code",
   "execution_count": 4,
   "metadata": {
    "collapsed": false,
    "slideshow": {
     "slide_type": "slide"
    }
   },
   "outputs": [
    {
     "data": {
      "image/png": "[encoded data removed]",
      "text/plain": [
       "<matplotlib.figure.Figure at 0x7fec59a7a610>"
      ]
     },
     "metadata": {},
     "output_type": "display_data"
    }
   ],
   "source": [
    "kToRateDict = {2: 94, 3: 88, 4: 80, 5: 81, 6: 74, 7: 66, 8: 58, 9: 57, 10: 58, 11: 58, 12: 53, 13: 49, 14: 45, 15: 41, 16: 42, 17: 42, 18: 42, 19: 40, 20: 36, 21: 37, 22: 40, 23: 36, 24: 35, 25: 35, 26: 37, 27: 35, 28: 35, 29: 34, 30: 34, 31: 28, 32: 29, 33: 28, 34: 27, 35: 26, 36: 24, 37: 24, 38: 23, 39: 22, 40: 22, 41: 19, 42: 20, 43: 20, 44: 23, 45: 23, 46: 22, 47: 20, 48: 18, 49: 18, 50: 18}\n",
    "# 绘制上面交叉验证后的 k 和 正确率的 关系 图\n",
    "k = kToRateDict.keys()\n",
    "v = kToRateDict.values()\n",
    "plt.plot(k , v  ,'ro')\n",
    "plt.axis([0, 50, 0, 100])\n",
    "plt.ylabel('rate')\n",
    "plt.xlabel('K')\n",
    "plt.show()\n"
   ]
  },
  {
   "cell_type": "code",
   "execution_count": 8,
   "metadata": {
    "collapsed": false,
    "slideshow": {
     "slide_type": "slide"
    }
   },
   "outputs": [
    {
     "name": "stdout",
     "output_type": "stream",
     "text": [
      "测试图片\n"
     ]
    },
    {
     "data": {
      "image/png": "[encoded data removed]",
      "text/plain": [
       "<matplotlib.figure.Figure at 0x7fec7c19fe50>"
      ]
     },
     "metadata": {},
     "output_type": "display_data"
    },
    {
     "name": "stdout",
     "output_type": "stream",
     "text": [
      "预测结果:\n",
      "8\n"
     ]
    }
   ],
   "source": [
    "import commands\n",
    "(status, output) = commands.getstatusoutput(\"php ../rand.php\")\n",
    "demo=\"../data/rand/rand.png\"\n",
    "print \"测试图片\"\n",
    "showPic(demo)\n",
    "demoStr = getPngStr(demo)\n",
    "i = 0\n",
    "print \"预测结果:\"\n",
    "print getPredictNumWithJaccard(demoStr , trainDict , 2)\n"
   ]
  },
  {
   "cell_type": "code",
   "execution_count": null,
   "metadata": {
    "collapsed": true
   },
   "outputs": [],
   "source": []
  },
  {
   "cell_type": "code",
   "execution_count": null,
   "metadata": {
    "collapsed": true
   },
   "outputs": [],
   "source": []
  }
 ],
 "metadata": {
  "celltoolbar": "Slideshow",
  "kernelspec": {
   "display_name": "Python 2",
   "language": "python",
   "name": "python2"
  },
  "language_info": {
   "codemirror_mode": {
    "name": "ipython",
    "version": 2
   },
   "file_extension": ".py",
   "mimetype": "text/x-python",
   "name": "python",
   "nbconvert_exporter": "python",
   "pygments_lexer": "ipython2",
   "version": "2.7.13"
  }
 },
 "nbformat": 4,
 "nbformat_minor": 2
}
