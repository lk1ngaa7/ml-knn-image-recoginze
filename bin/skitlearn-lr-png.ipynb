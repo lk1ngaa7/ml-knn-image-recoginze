{
 "cells": [
  {
   "cell_type": "markdown",
   "metadata": {},
   "source": [
    "下面是利用 skit-learn 包提供的 LR 逻辑回归功能来实现前面 KNN 的图片识别功能"
   ]
  },
  {
   "cell_type": "code",
   "execution_count": 1,
   "metadata": {
    "collapsed": false
   },
   "outputs": [],
   "source": [
    "from PIL import Image\n",
    "import numpy as np\n",
    "import matplotlib.pyplot as plt\n",
    "from sklearn.linear_model import LogisticRegression\n",
    "\n",
    "def showPic( filename ):\n",
    "    img=np.array(Image.open(filename))\n",
    "    plt.imshow(img)\n",
    "    plt.axis('on')\n",
    "    plt.show()\n",
    "\n",
    "def getPngStr(filename):\n",
    "    image = Image.open(filename)\n",
    "    r, g, b = image.split()\n",
    "    r_arr = np.array(r).reshape(2400)\n",
    "    ##print r_arr.size\n",
    "    retStr=\"\"\n",
    "    for row in r_arr:\n",
    "        retStr+=str(row)+\",\"\n",
    "    return retStr\n",
    "\n",
    "def strToList(str):\n",
    "    str = str.split(\",\")\n",
    "    ret = []\n",
    "    for s in str:\n",
    "        if s == '' :\n",
    "            continue\n",
    "        ret.append(int(s))    \n",
    "    return ret\n",
    "\n",
    "def getTrainData():\n",
    "    trainX = []\n",
    "    trainY = []\n",
    "    i=9\n",
    "    while i >= 0 :\n",
    "        j=9\n",
    "        while j >= 0:\n",
    "            txtFile = '../data/binarytxt_new/'+str(i)+\"_\"+str(j)+\".txt\"\n",
    "            file = open(txtFile ,\"r+\")\n",
    "            trainStr = file.read()\n",
    "            trainX.append(strToList(trainStr))\n",
    "            trainY.append(i)\n",
    "            j-=1\n",
    "        i-=1\n",
    "    return trainX , trainY\n",
    "\n",
    "def getTestData():\n",
    "    testX = []\n",
    "    testY = []\n",
    "    i=9\n",
    "    while i >= 0 :\n",
    "        j=9\n",
    "        while j >= 0:\n",
    "            txtFile = \"../data/test/binarytxt_new/\"+str(i)+\"_\"+str(j)+\".txt\"\n",
    "            file = open(txtFile ,\"r+\")\n",
    "            testStr = file.read()\n",
    "            testX.append(strToList(testStr))\n",
    "            testY.append(i)\n",
    "            j-=1\n",
    "        i-=1\n",
    "    return testX , testY"
   ]
  },
  {
   "cell_type": "code",
   "execution_count": 4,
   "metadata": {
    "collapsed": false
   },
   "outputs": [
    {
     "data": {
      "image/png": "[encoded data removed]",
      "text/plain": [
       "<matplotlib.figure.Figure at 0x7f025262e0d0>"
      ]
     },
     "metadata": {},
     "output_type": "display_data"
    },
    {
     "name": "stdout",
     "output_type": "stream",
     "text": [
      "图片转字符串写入文件\n"
     ]
    }
   ],
   "source": [
    "demo=\"../data/8_2.png\"\n",
    "showPic(demo)\n",
    "print \"图片转字符串写入文件\"\n",
    "i=9\n",
    "while i >=0 :\n",
    "    j=9\n",
    "    while j >= 0:\n",
    "        ## 训练集数据准备\n",
    "        filename =\"../data/\"+str(i)+\"_\"+str(j)+\".png\"\n",
    "        txtStr = getPngStr(filename)\n",
    "        txtFile = '../data/binarytxt_new/'+str(i)+\"_\"+str(j)+\".txt\"\n",
    "        file = open(txtFile ,\"wb+\")\n",
    "        file.write(txtStr)\n",
    "        ## 测试集数据准备\n",
    "        filename =\"../data/test/\"+str(i)+\"_\"+str(j)+\".png\"\n",
    "        txtStr = getPngStr(filename)\n",
    "        txtFile = '../data/test/binarytxt_new/'+str(i)+\"_\"+str(j)+\".txt\"\n",
    "        file = open(txtFile ,\"wb+\")\n",
    "        file.write(txtStr)\n",
    "        j-=1\n",
    "    i-=1"
   ]
  },
  {
   "cell_type": "code",
   "execution_count": 2,
   "metadata": {
    "collapsed": false
   },
   "outputs": [
    {
     "name": "stderr",
     "output_type": "stream",
     "text": [
      "/root/anaconda2/lib/python2.7/site-packages/sklearn/linear_model/sag.py:286: ConvergenceWarning: The max_iter was reached which means the coef_ did not converge\n",
      "  \"the coef_ did not converge\", ConvergenceWarning)\n"
     ]
    },
    {
     "name": "stdout",
     "output_type": "stream",
     "text": [
      "training score : 1.000 (ovr)\n"
     ]
    },
    {
     "data": {
      "text/plain": [
       "['lr.model']"
      ]
     },
     "execution_count": 2,
     "metadata": {},
     "output_type": "execute_result"
    }
   ],
   "source": [
    "\n",
    "trainX = []\n",
    "trainY = []\n",
    "trainX,trainY = getTrainData()\n",
    "\n",
    "trainY =  np.array(trainY)\n",
    "trainX =  np.array(trainX)\n",
    "\n",
    "clf = LogisticRegression(solver='sag', max_iter=1000, random_state=42,multi_class='ovr').fit(trainX, trainY)\n",
    "print(\"training score : %.3f (%s)\" % (clf.score(trainX, trainY), 'ovr'))\n",
    "from sklearn.externals import joblib\n",
    "joblib.dump(clf, 'lr.model')\n"
   ]
  },
  {
   "cell_type": "code",
   "execution_count": 7,
   "metadata": {
    "collapsed": false,
    "slideshow": "-"
   },
   "outputs": [
    {
     "name": "stdout",
     "output_type": "stream",
     "text": [
      "测试图片\n"
     ]
    },
    {
     "data": {
      "image/png": "[encoded data removed]",
      "text/plain": [
       "<matplotlib.figure.Figure at 0x7f70f0251f50>"
      ]
     },
     "metadata": {},
     "output_type": "display_data"
    },
    {
     "name": "stdout",
     "output_type": "stream",
     "text": [
      "[9, 9, 9, 9, 9, 9, 9, 9, 9, 9, 8, 8, 8, 8, 8, 8, 8, 8, 8, 8, 7, 7, 7, 7, 7, 7, 7, 7, 7, 7, 6, 6, 6, 6, 6, 6, 6, 6, 6, 6, 5, 5, 5, 5, 5, 5, 5, 5, 5, 5, 4, 4, 4, 4, 4, 4, 4, 4, 4, 4, 3, 3, 3, 3, 3, 3, 3, 3, 3, 3, 2, 2, 2, 2, 2, 2, 2, 2, 2, 2, 1, 1, 1, 1, 1, 1, 1, 1, 1, 1, 0, 0, 0, 0, 0, 0, 0, 0, 0, 0]\n",
      "[6]\n"
     ]
    }
   ],
   "source": [
    "from sklearn.externals import joblib\n",
    "\n",
    "testX  = []\n",
    "testY  = []\n",
    "testX,testY = getTestData()\n",
    "testY =  np.array(testY)\n",
    "testX =  np.array(testX)\n",
    "clf = joblib.load('lr.model')\n",
    "import commands\n",
    "(status, output) = commands.getstatusoutput(\"php ../rand.php\")\n",
    "demo=\"../data/rand/rand.png\"\n",
    "print \"测试图片\"\n",
    "showPic(demo)\n",
    "demoStr = getPngStr(demo)\n",
    "trainX,trainY = getTrainData()\n",
    "print trainY\n",
    "demoVec = np.array(strToList(demoStr)).reshape(1,-1)\n",
    "print clf.predict(demoVec)"
   ]
  },
  {
   "cell_type": "code",
   "execution_count": null,
   "metadata": {
    "collapsed": true
   },
   "outputs": [],
   "source": []
  },
  {
   "cell_type": "code",
   "execution_count": null,
   "metadata": {
    "collapsed": true
   },
   "outputs": [],
   "source": []
  }
 ],
 "metadata": {
  "kernelspec": {
   "display_name": "Python 2",
   "language": "python",
   "name": "python2"
  },
  "language_info": {
   "codemirror_mode": {
    "name": "ipython",
    "version": 2
   },
   "file_extension": ".py",
   "mimetype": "text/x-python",
   "name": "python",
   "nbconvert_exporter": "python",
   "pygments_lexer": "ipython2",
   "version": "2.7.13"
  }
 },
 "nbformat": 4,
 "nbformat_minor": 2
}
